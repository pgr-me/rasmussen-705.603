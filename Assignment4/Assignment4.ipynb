{
 "cells": [
  {
   "cell_type": "code",
   "execution_count": 1,
   "id": "dfda71aa-5125-46c0-89d3-b277d987e903",
   "metadata": {
    "tags": []
   },
   "outputs": [],
   "source": [
    "# Standard library imports\n",
    "from collections import defaultdict\n",
    "from pathlib import Path\n",
    "import string\n",
    "from typing import Any, Dict, DefaultDict, List, Tuple\n",
    "\n",
    "# Third part imports\n",
    "import gensim\n",
    "from gensim.corpora.dictionary import Dictionary\n",
    "from gensim.interfaces import TransformedCorpus\n",
    "import nltk\n",
    "from nltk.stem import SnowballStemmer, WordNetLemmatizer\n",
    "from nltk.tokenize import word_tokenize\n",
    "from nltk.corpus import stopwords\n",
    "import pandas as pd\n",
    "\n",
    "nltk.download(\"punkt\")\n",
    "nltk.download(\"stopwords\")\n",
    "nltk.download(\"wordnet\")\n",
    "\n",
    "# Local imports\n",
    "from Assignment4 import *"
   ]
  },
  {
   "cell_type": "code",
   "execution_count": 2,
   "id": "c91f7881-4a78-4230-9b26-bc1db1cc4d22",
   "metadata": {
    "tags": []
   },
   "outputs": [],
   "source": [
    "DATA_DIR = Path(\"/work/data\")\n",
    "RAW_DIR = DATA_DIR / \"raw\"\n",
    "SRC = RAW_DIR / \"Musical_instruments_reviews.csv\"\n",
    "PROCESSED_DIR = DATA_DIR / \"processed\" \n",
    "DST = PROCESSED_DIR / \"stemming_output.csv\"\n",
    "LIMIT = 15"
   ]
  },
  {
   "cell_type": "code",
   "execution_count": 3,
   "id": "f10c4356-eefa-4997-b618-e50146c9a3ab",
   "metadata": {
    "tags": []
   },
   "outputs": [],
   "source": [
    "data = pd.read_csv(SRC)"
   ]
  },
  {
   "cell_type": "code",
   "execution_count": 4,
   "id": "69009817-1bae-4aba-993a-5b1d3e72bb3d",
   "metadata": {
    "tags": []
   },
   "outputs": [],
   "source": [
    "tokenized_reviews = tokenize(data[\"summary\"])\n",
    "nostops = remove_stopwords(tokenized_reviews)\n",
    "\n",
    "stemmed = stem(nostops)\n",
    "stemmed_dict = make_token_dict(stemmed)\n",
    "stemmed_bow_corpus = make_bow_corpus(stemmed, stemmed_dict)\n",
    "stemmed_model, stemmed_corpus_tfidf = make_corpus_tfidf(stemmed_bow_corpus)\n",
    "stemmed_top_terms_by_doc = find_top_terms_by_doc(stemmed_corpus_tfidf, stemmed_dict)\n",
    "stemmed_top_terms = find_top_terms(stemmed_top_terms_by_doc, limit=LIMIT)\n",
    "\n",
    "lemmatized = lemmatize(nostops)\n",
    "lemmatized_dict = make_token_dict(lemmatized)\n",
    "lemmatized_bow_corpus = make_bow_corpus(lemmatized, lemmatized_dict)\n",
    "lemmatized_model, lemmatized_corpus_tfidf = make_corpus_tfidf(lemmatized_bow_corpus)\n",
    "lemmatized_top_terms_by_doc = find_top_terms_by_doc(lemmatized_corpus_tfidf, stemmed_dict)\n",
    "lemmatized_top_terms = find_top_terms(lemmatized_top_terms_by_doc, limit=LIMIT)\n",
    "\n"
   ]
  },
  {
   "cell_type": "markdown",
   "id": "809f4c5e-2b4d-4582-8e22-275f36a9ae2e",
   "metadata": {},
   "source": [
    "## Stemmed top term scores"
   ]
  },
  {
   "cell_type": "code",
   "execution_count": 5,
   "id": "5cb3c389-fa38-4a32-90cd-343e6e8647a4",
   "metadata": {
    "tags": []
   },
   "outputs": [
    {
     "data": {
      "text/plain": [
       "word\n",
       "avoid                  1.0\n",
       "les                    1.0\n",
       "oversel                1.0\n",
       "digiverbdigitech       1.0\n",
       "p                      1.0\n",
       "par                    1.0\n",
       "limp                   1.0\n",
       "perfectfor             1.0\n",
       "flashback              1.0\n",
       "useful                 1.0\n",
       "usefulbut              1.0\n",
       "agre                   1.0\n",
       "perrrrrfect            1.0\n",
       "toughest               1.0\n",
       "flexablelightweight    1.0\n",
       "Name: score, dtype: float64"
      ]
     },
     "execution_count": 5,
     "metadata": {},
     "output_type": "execute_result"
    }
   ],
   "source": [
    "score_terms(nostops, lemmatize_=False, limit=15)"
   ]
  },
  {
   "cell_type": "markdown",
   "id": "0fa16272-30e0-4c8f-a189-056380ae0dc0",
   "metadata": {},
   "source": [
    "## Lemmatized top term scores"
   ]
  },
  {
   "cell_type": "code",
   "execution_count": 6,
   "id": "3d14bfe3-37e6-4372-b4e5-2c24060a22f3",
   "metadata": {
    "tags": []
   },
   "outputs": [
    {
     "data": {
      "text/plain": [
       "word\n",
       "mojo                   1.0\n",
       "par                    1.0\n",
       "greaaaaaat             1.0\n",
       "al                     1.0\n",
       "grail                  1.0\n",
       "unobtrusive            1.0\n",
       "allright               1.0\n",
       "goofed                 1.0\n",
       "aloha                  1.0\n",
       "thick                  1.0\n",
       "giggity                1.0\n",
       "amaizing               1.0\n",
       "underwhelmed           1.0\n",
       "flexablelightweight    1.0\n",
       "unbelieveable          1.0\n",
       "Name: score, dtype: float64"
      ]
     },
     "execution_count": 6,
     "metadata": {},
     "output_type": "execute_result"
    }
   ],
   "source": [
    "score_terms(nostops, lemmatize_=True, limit=15)"
   ]
  }
 ],
 "metadata": {
  "kernelspec": {
   "display_name": "Python 3 (ipykernel)",
   "language": "python",
   "name": "python3"
  },
  "language_info": {
   "codemirror_mode": {
    "name": "ipython",
    "version": 3
   },
   "file_extension": ".py",
   "mimetype": "text/x-python",
   "name": "python",
   "nbconvert_exporter": "python",
   "pygments_lexer": "ipython3",
   "version": "3.8.16"
  }
 },
 "nbformat": 4,
 "nbformat_minor": 5
}
