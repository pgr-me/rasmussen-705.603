{
 "cells": [
  {
   "cell_type": "code",
   "execution_count": 4,
   "metadata": {},
   "outputs": [],
   "source": [
    "# Standard library imports\n",
    "import multiprocessing\n",
    "from pathlib import Path\n",
    "\n",
    "# Third party imports\n",
    "import bottleneck as bn\n",
    "import geopandas as gpd\n",
    "import joblib\n",
    "from joblib import Parallel, delayed\n",
    "import matplotlib.pyplot as plt\n",
    "import numpy as np\n",
    "from numpy.typing import NDArray\n",
    "import pandas as pd\n",
    "import plotly.express as px\n",
    "\n",
    "from pyclustering.cluster.kmeans import kmeans, kmeans_visualizer\n",
    "from pyclustering.cluster.center_initializer import kmeans_plusplus_initializer\n",
    "from pyclustering.utils.metric import type_metric, distance_metric\n",
    "\n",
    "import rasterio as rio\n",
    "from scipy.spatial.distance import mahalanobis\n",
    "\n",
    "# Local imports\n",
    "from clustering import label_scenes, make_cluster_training_set\n",
    "\n",
    "\n",
    "# Constants\n",
    "DATA_DIR = Path(r\"C:\\Users\\Peter\\gh\\rasmussen-705.603\\data\\FinalProject\")\n",
    "# Cleanup / outlier detection params\n",
    "WINDOW = 10\n",
    "START_INDEX = 10\n",
    "N_STDS = 1.75\n",
    "# Parallelization constant\n",
    "CORES = multiprocessing.cpu_count() - 1\n",
    "# KMEANS params\n",
    "K = 4\n",
    "region_sample_size = 5000\n",
    "\n",
    "# BOCD model params\n",
    "BOCD_PARAMS = dict(\n",
    "    hazard=1/100,\n",
    "    mean0=1,\n",
    "    var0=2,\n",
    "    varx=1,\n",
    ")\n",
    "\n",
    "# Define directories\n",
    "raw_dir = DATA_DIR / \"raw\"\n",
    "interim_dir = DATA_DIR / \"interim\"\n",
    "processed_dir = DATA_DIR / \"processed\"\n",
    "cogs_dir = interim_dir / \"cogs\"\n",
    "autoencoder_dir = processed_dir / \"autoencoder\"\n",
    "models_dir = interim_dir / \"models\"\n",
    "scores_dir = interim_dir / \"scores\"\n",
    "encoded_dir = interim_dir / \"encoded\"\n",
    "meta_dir = interim_dir / \"meta\"\n",
    "cluster_dir = interim_dir / \"cluster\"\n",
    "\n",
    "change_maps_dir = interim_dir / \"change_maps\"\n",
    "\n",
    "cluster_dir.mkdir(exist_ok=True, parents=True)\n",
    "change_maps_dir.mkdir(exist_ok=True, parents=True)\n",
    "\n",
    "cores = multiprocessing.cpu_count()"
   ]
  },
  {
   "attachments": {},
   "cell_type": "markdown",
   "metadata": {},
   "source": [
    "## Train KMeans model"
   ]
  },
  {
   "cell_type": "code",
   "execution_count": 2,
   "metadata": {},
   "outputs": [
    {
     "name": "stdout",
     "output_type": "stream",
     "text": [
      "[Cluster]: Load regions.\n",
      "[Cluster]: Train KMeans model.\n",
      "[Cluster]: Processing af-kharkamar-2022...\n",
      "[Cluster]: Processing gm-kanifing-2022...\n",
      "[Cluster]: Processing in-cianjur-2022...\n",
      "[Cluster]: Processing mg-farafangana-2022...\n",
      "[Cluster]: Processing tr-islahiye-2023...\n",
      "[Cluster]: Processing us-baltimore-9999...\n"
     ]
    }
   ],
   "source": [
    "print(f\"[Cluster]: Load regions.\")\n",
    "regions = gpd.read_file(raw_dir / \"regions.geojson\").set_index(\"event_key\")\n",
    "\n",
    "print(f\"[Cluster]: Prepare cluster training set.\")\n",
    "X = make_cluster_training_set(regions, encoded_dir, region_sample_size=region_sample_size)\n",
    "\n",
    "print(f\"[Cluster]: Train KMeans.\")\n",
    "VI = np.linalg.inv(np.cov(X.T))\n",
    "metric = distance_metric(type_metric.USER_DEFINED, func=lambda x, y: mahalanobis(x, y, VI))\n",
    "initial_centers = kmeans_plusplus_initializer(X, K).initialize()\n",
    "kmeans_instance = kmeans(X, initial_centers, metric=metric)\n",
    "kmeans_instance.process()\n",
    "clusters = kmeans_instance.get_clusters()\n",
    "final_centers = kmeans_instance.get_centers()"
   ]
  },
  {
   "attachments": {},
   "cell_type": "markdown",
   "metadata": {},
   "source": [
    "## Infer using trained KMeans model"
   ]
  },
  {
   "cell_type": "code",
   "execution_count": 5,
   "metadata": {},
   "outputs": [
    {
     "name": "stdout",
     "output_type": "stream",
     "text": [
      "[Cluster][af-kharkamar-2022]: Load region dataset and metadata\n",
      "[Cluster][af-kharkamar-2022]: Prep inputs.\n",
      "[Cluster][af-kharkamar-2022]: Labeling pixels...\n",
      "[Cluster][af-kharkamar-2022]: Saving cluster labels...\n",
      "[Cluster][gm-kanifing-2022]: Load region dataset and metadata\n",
      "[Cluster][gm-kanifing-2022]: Prep inputs.\n",
      "[Cluster][gm-kanifing-2022]: Labeling pixels...\n",
      "[Cluster][gm-kanifing-2022]: Saving cluster labels...\n",
      "[Cluster][in-cianjur-2022]: Load region dataset and metadata\n",
      "[Cluster][in-cianjur-2022]: Prep inputs.\n",
      "[Cluster][in-cianjur-2022]: Labeling pixels...\n",
      "[Cluster][in-cianjur-2022]: Saving cluster labels...\n",
      "[Cluster][mg-farafangana-2022]: Load region dataset and metadata\n",
      "[Cluster][mg-farafangana-2022]: Prep inputs.\n",
      "[Cluster][mg-farafangana-2022]: Labeling pixels...\n",
      "[Cluster][mg-farafangana-2022]: Saving cluster labels...\n",
      "[Cluster][tr-islahiye-2023]: Load region dataset and metadata\n",
      "[Cluster][tr-islahiye-2023]: Prep inputs.\n",
      "[Cluster][tr-islahiye-2023]: Labeling pixels...\n",
      "[Cluster][tr-islahiye-2023]: Saving cluster labels...\n",
      "[Cluster][us-baltimore-9999]: Load region dataset and metadata\n",
      "[Cluster][us-baltimore-9999]: Prep inputs.\n",
      "[Cluster][us-baltimore-9999]: Labeling pixels...\n",
      "[Cluster][us-baltimore-9999]: Saving cluster labels...\n"
     ]
    }
   ],
   "source": [
    "label_scenes(regions, cluster_dir, encoded_dir, cores, kmeans_instance, cogs_dir)"
   ]
  }
 ],
 "metadata": {
  "kernelspec": {
   "display_name": "torchgeo",
   "language": "python",
   "name": "python3"
  },
  "language_info": {
   "codemirror_mode": {
    "name": "ipython",
    "version": 3
   },
   "file_extension": ".py",
   "mimetype": "text/x-python",
   "name": "python",
   "nbconvert_exporter": "python",
   "pygments_lexer": "ipython3",
   "version": "3.10.10"
  },
  "orig_nbformat": 4
 },
 "nbformat": 4,
 "nbformat_minor": 2
}
