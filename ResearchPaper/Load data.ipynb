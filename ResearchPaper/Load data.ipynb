{
 "cells": [
  {
   "cell_type": "code",
   "execution_count": 7,
   "metadata": {},
   "outputs": [],
   "source": [
    "from pathlib import Path\n",
    "\n",
    "import torch\n",
    "import torchgeo\n",
    "\n",
    "data_dir = Path(r\"C:\\Users\\Peter\\gh\\rasmussen-705.603\\data\")\n",
    "raw_dir = data_dir / \"raw\""
   ]
  },
  {
   "cell_type": "code",
   "execution_count": 8,
   "metadata": {},
   "outputs": [],
   "source": [
    "import torchgeo.datasets as dg"
   ]
  },
  {
   "cell_type": "code",
   "execution_count": 9,
   "metadata": {},
   "outputs": [],
   "source": [
    "from lightning.pytorch import Trainer\n",
    "from torch.utils.data import DataLoader\n",
    "\n",
    "from torchgeo.datamodules import InriaAerialImageLabelingDataModule\n",
    "from torchgeo.datasets import CDL, Landsat7, Landsat8, VHR10, stack_samples\n",
    "from torchgeo.samplers import RandomGeoSampler\n",
    "from torchgeo.trainers import SemanticSegmentationTask"
   ]
  },
  {
   "cell_type": "code",
   "execution_count": 10,
   "metadata": {},
   "outputs": [
    {
     "ename": "FileNotFoundError",
     "evalue": "No Landsat8 data was found in `root='C:\\Users\\Peter\\gh\\rasmussen-705.603\\data\\raw'` with `bands=['SR_B1', 'SR_B2', 'SR_B3', 'SR_B4', 'SR_B5', 'SR_B6', 'SR_B7']`",
     "output_type": "error",
     "traceback": [
      "\u001b[1;31m---------------------------------------------------------------------------\u001b[0m",
      "\u001b[1;31mFileNotFoundError\u001b[0m                         Traceback (most recent call last)",
      "Cell \u001b[1;32mIn[10], line 1\u001b[0m\n\u001b[1;32m----> 1\u001b[0m landsat8 \u001b[39m=\u001b[39m Landsat8(root\u001b[39m=\u001b[39;49m\u001b[39mstr\u001b[39;49m(raw_dir))\n",
      "File \u001b[1;32mc:\\Users\\Peter\\anaconda3\\envs\\torchgeo\\lib\\site-packages\\torchgeo\\datasets\\landsat.py:85\u001b[0m, in \u001b[0;36mLandsat.__init__\u001b[1;34m(self, root, crs, res, bands, transforms, cache)\u001b[0m\n\u001b[0;32m     82\u001b[0m bands \u001b[39m=\u001b[39m bands \u001b[39mor\u001b[39;00m \u001b[39mself\u001b[39m\u001b[39m.\u001b[39mdefault_bands\n\u001b[0;32m     83\u001b[0m \u001b[39mself\u001b[39m\u001b[39m.\u001b[39mfilename_glob \u001b[39m=\u001b[39m \u001b[39mself\u001b[39m\u001b[39m.\u001b[39mfilename_glob\u001b[39m.\u001b[39mformat(bands[\u001b[39m0\u001b[39m])\n\u001b[1;32m---> 85\u001b[0m \u001b[39msuper\u001b[39;49m()\u001b[39m.\u001b[39;49m\u001b[39m__init__\u001b[39;49m(root, crs, res, bands, transforms, cache)\n",
      "File \u001b[1;32mc:\\Users\\Peter\\anaconda3\\envs\\torchgeo\\lib\\site-packages\\torchgeo\\datasets\\geo.py:370\u001b[0m, in \u001b[0;36mRasterDataset.__init__\u001b[1;34m(self, root, crs, res, bands, transforms, cache)\u001b[0m\n\u001b[0;32m    368\u001b[0m     \u001b[39mif\u001b[39;00m \u001b[39mself\u001b[39m\u001b[39m.\u001b[39mbands:\n\u001b[0;32m    369\u001b[0m         msg \u001b[39m+\u001b[39m\u001b[39m=\u001b[39m \u001b[39mf\u001b[39m\u001b[39m\"\u001b[39m\u001b[39m with `bands=\u001b[39m\u001b[39m{\u001b[39;00m\u001b[39mself\u001b[39m\u001b[39m.\u001b[39mbands\u001b[39m}\u001b[39;00m\u001b[39m`\u001b[39m\u001b[39m\"\u001b[39m\n\u001b[1;32m--> 370\u001b[0m     \u001b[39mraise\u001b[39;00m \u001b[39mFileNotFoundError\u001b[39;00m(msg)\n\u001b[0;32m    372\u001b[0m \u001b[39mif\u001b[39;00m \u001b[39mnot\u001b[39;00m \u001b[39mself\u001b[39m\u001b[39m.\u001b[39mseparate_files:\n\u001b[0;32m    373\u001b[0m     \u001b[39mself\u001b[39m\u001b[39m.\u001b[39mband_indexes \u001b[39m=\u001b[39m \u001b[39mNone\u001b[39;00m\n",
      "\u001b[1;31mFileNotFoundError\u001b[0m: No Landsat8 data was found in `root='C:\\Users\\Peter\\gh\\rasmussen-705.603\\data\\raw'` with `bands=['SR_B1', 'SR_B2', 'SR_B3', 'SR_B4', 'SR_B5', 'SR_B6', 'SR_B7']`"
     ]
    }
   ],
   "source": [
    "landsat8 = Landsat8(root=str(raw_dir))"
   ]
  },
  {
   "cell_type": "code",
   "execution_count": null,
   "metadata": {},
   "outputs": [],
   "source": []
  }
 ],
 "metadata": {
  "kernelspec": {
   "display_name": "torchgeo",
   "language": "python",
   "name": "python3"
  },
  "language_info": {
   "codemirror_mode": {
    "name": "ipython",
    "version": 3
   },
   "file_extension": ".py",
   "mimetype": "text/x-python",
   "name": "python",
   "nbconvert_exporter": "python",
   "pygments_lexer": "ipython3",
   "version": "3.10.10"
  },
  "orig_nbformat": 4
 },
 "nbformat": 4,
 "nbformat_minor": 2
}
