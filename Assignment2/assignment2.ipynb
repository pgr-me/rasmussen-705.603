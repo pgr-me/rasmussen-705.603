{
 "cells": [
  {
   "cell_type": "markdown",
   "metadata": {},
   "source": [
    "# Assignment 2\n",
    "\n",
    "This assignment preprocesses an image for a YOLO classifier. It loads blue-green-red (BGR) images from a directory, converts each to red-green-blue (RGB), resizes it, normalizes it, converts it to a grayscale image, and then plots the output.\n",
    "\n",
    "Additional features include:\n",
    "* Parameterization of normalization means and standard deviations.\n",
    "* Parameterization of method of grayscaling.\n",
    "* Documentation and assertion tests for each function.\n",
    "* Parameterized plotting function."
   ]
  },
  {
   "cell_type": "markdown",
   "metadata": {},
   "source": [
    "### Imports"
   ]
  },
  {
   "cell_type": "code",
   "execution_count": 9,
   "metadata": {
    "tags": []
   },
   "outputs": [],
   "source": [
    "# Standard library imports\n",
    "from pathlib import Path\n",
    "from typing import List, Tuple\n",
    "\n",
    "# Third party imports\n",
    "import cv2\n",
    "import matplotlib.pyplot as plt\n",
    "from mpl_toolkits.axes_grid1 import ImageGrid\n",
    "import numpy as np\n",
    "from sklearn.preprocessing import StandardScaler\n",
    "from sklearn.decomposition import PCA"
   ]
  },
  {
   "cell_type": "markdown",
   "metadata": {},
   "source": [
    "### Functions"
   ]
  },
  {
   "cell_type": "code",
   "execution_count": 10,
   "metadata": {
    "tags": []
   },
   "outputs": [],
   "source": [
    "def bgr_to_rgb(bgr_img: np.ndarray) -> np.ndarray:\n",
    "    \"\"\"\n",
    "    Convert a BGR image to RGB.\n",
    "    Args:\n",
    "        bgr_img: Unsigned 8-bit blue-green-red image.\n",
    "    Returns: Unsigned 8-bit red-blue-green image.\n",
    "    \"\"\"\n",
    "    return cv2.cvtColor(bgr_img, cv2.COLOR_BGR2RGB)\n",
    "\n",
    "\n",
    "test_bgr_img = np.array([[[166, 237, 252], [ 54, 202, 247], [164, 236, 252]], [[ 45, 192, 242], [14, 75, 129], [34, 180, 238]], [[177, 237, 250], [ 45, 194, 240], [151, 227, 247]]], dtype=np.uint8)\n",
    "assert bgr_to_rgb(test_bgr_img).max() <= 255\n",
    "assert bgr_to_rgb(test_bgr_img).min() >= 0\n",
    "assert ~np.allclose(test_bgr_img, bgr_to_rgb(test_bgr_img))"
   ]
  },
  {
   "cell_type": "code",
   "execution_count": 11,
   "metadata": {
    "tags": []
   },
   "outputs": [],
   "source": [
    "def resize(img: np.ndarray, dsize: Tuple[int, int]) -> np.ndarray:\n",
    "    \"\"\"\n",
    "    Resize an image to desired width and height.\n",
    "    Args:\n",
    "        img: Image to resize.\n",
    "        dsize: Width, height tuple.\n",
    "    Returns: Resized image.\n",
    "    \"\"\"\n",
    "    return cv2.resize(img, dsize, interpolation = cv2.INTER_AREA)\n",
    "\n",
    "\n",
    "test_rgb_img = np.array([[[252, 237, 166], [247, 202,  54], [252, 236, 164]], [[242, 192,  45], [129,  75,  14], [238, 180,  34]], [[250, 237, 177], [240, 194,  45], [247, 227, 151]]], dtype=np.uint8)\n",
    "assert resize(test_rgb_img, (20, 40)).shape != (20, 40, 3)\n",
    "assert resize(test_rgb_img, (20, 30)).shape == (30, 20, 3)\n",
    "assert resize(test_rgb_img, (10, 10)).shape == (10, 10, 3)"
   ]
  },
  {
   "cell_type": "code",
   "execution_count": 12,
   "metadata": {
    "tags": []
   },
   "outputs": [],
   "source": [
    "def normalize(\n",
    "        rgb_img: np.ndarray,\n",
    "        means: List[float]=None,\n",
    "        stds: List[float]=None,\n",
    "    ) -> np.ndarray:\n",
    "    \"\"\"\n",
    "    Normalize RGB image using band-weighted means and standard deviations.\n",
    "    Args:\n",
    "        rgb_img: Unsigned 8-bit RGB array with dimension order of height, width, channels.\n",
    "        mean_wts: List of means, one for each channel.\n",
    "        std_wts: List of standard deviations, one for each channel.\n",
    "    Returns: Unsigned 8-bit band-centered image.\n",
    "    \"\"\"\n",
    "    if means is None:\n",
    "        means = [0.485, 0.456, 0.406]\n",
    "    if stds is None:\n",
    "        stds = [0.229, 0.224, 0.225]\n",
    "    height, width, channels = rgb_img.shape\n",
    "    norm_img = np.zeros((height, width, channels))\n",
    "    for channel in range(channels):\n",
    "        norm_img[:, :, channel] = (rgb_img[:, :, channel] - means[channel]) / stds[channel]\n",
    "    return cv2.normalize(norm_img, None, 255, 0, cv2.NORM_MINMAX, cv2.CV_8U)\n",
    "\n",
    "\n",
    "test_rgb_img = np.array([[[252, 237, 166], [247, 202,  54], [252, 236, 164]], [[242, 192,  45], [129,  75,  14], [238, 180,  34]], [[250, 237, 177], [240, 194,  45], [247, 227, 151]]], dtype=np.uint8)\n",
    "assert normalize(test_rgb_img).dtype == np.uint8\n",
    "assert ~np.allclose(normalize(test_rgb_img), normalize(test_rgb_img, means=[0.2, 0.9, 0.1]))\n",
    "assert ~np.allclose(normalize(test_rgb_img), normalize(test_rgb_img, stds=[0.4, 0.2, 0.9]))"
   ]
  },
  {
   "cell_type": "code",
   "execution_count": 13,
   "metadata": {
    "tags": []
   },
   "outputs": [],
   "source": [
    "def pca(rgb_img: np.ndarray) -> np.ndarray:\n",
    "    \"\"\"\n",
    "    Reduce dimensionality of multiband image (e.g., convert RGB to grayscale).\n",
    "    Args:\n",
    "        rgb_img: Unsigned 8-bit RGB image to perform PCA on.\n",
    "    Returns: 64-bit float gray-scale image.\n",
    "    \"\"\"\n",
    "    height, width, channels = rgb_img.shape\n",
    "    scaler_model = StandardScaler()\n",
    "    pca_model = PCA(n_components=1)\n",
    "    X = scaler_model.fit_transform(rgb_img.reshape((height * width, channels), order=\"F\"))\n",
    "    X_pca = pca_model.fit_transform(X)\n",
    "    return X_pca.reshape((height, width), order=\"F\")\n",
    "\n",
    "\n",
    "test_rgb_img = np.array([[[252, 237, 166], [247, 202,  54], [252, 236, 164]], [[242, 192,  45], [129,  75,  14], [238, 180,  34]], [[250, 237, 177], [240, 194,  45], [247, 227, 151]]], dtype=np.uint8)\n",
    "assert pca(test_rgb_img).dtype == np.float64\n",
    "assert ~np.allclose(pca(test_rgb_img), test_rgb_img)"
   ]
  },
  {
   "cell_type": "code",
   "execution_count": 14,
   "metadata": {
    "tags": []
   },
   "outputs": [],
   "source": [
    "def make_grayscale(rgb_img: np.ndarray, method: str=\"cv2\") -> np.ndarray:\n",
    "    \"\"\"\n",
    "    Convert RGB image into grayscale using standard open-cv approach, PCA, or simple mean.\n",
    "    Args:\n",
    "        rgb_img: Unsigned 8-bit RGB image to convert to grayscale.\n",
    "        method: 'cv2', 'pca', or 'simple'.\n",
    "    Returns: Unsigned 8-bit grayscale image.\n",
    "    \"\"\"\n",
    "    assert method in (\"cv2\", \"pca\", \"simple\"), \"Grayscale method must be 'cv2', 'pca', or 'simple'.\"\n",
    "    if method == \"cv2\":\n",
    "        return cv2.cvtColor(rgb_img, cv2.COLOR_BGR2GRAY)\n",
    "    elif method == \"pca\":\n",
    "        scaler = StandardScaler()\n",
    "        pca = PCA(n_components=1, random_state=777)\n",
    "        height, width, channels = rgb_img.shape\n",
    "        X = scaler.fit_transform(rgb_img.reshape((height * width, channels), order=\"F\"))\n",
    "        X_pca = pca.fit_transform(X)\n",
    "        gray_img = X_pca.reshape((height, width), order=\"F\")\n",
    "    else:\n",
    "        gray_img = rgb_img.mean(axis=2)\n",
    "    return cv2.normalize(gray_img, None, 255, 0, cv2.NORM_MINMAX, cv2.CV_8U)#(255 * (gray_img - np.min(gray_img)) / np.ptp(gray_img)).astype(np.uint8)\n",
    "\n",
    "\n",
    "test_rgb_img = np.array([[[252, 237, 166], [247, 202,  54], [252, 236, 164]], [[242, 192,  45], [129,  75,  14], [238, 180,  34]], [[250, 237, 177], [240, 194,  45], [247, 227, 151]]], dtype=np.uint8)\n",
    "assert ~np.allclose(make_grayscale(test_rgb_img), make_grayscale(test_rgb_img, method=\"pca\"))\n",
    "assert ~np.allclose(make_grayscale(test_rgb_img), make_grayscale(test_rgb_img, method=\"simple\"))\n",
    "assert ~np.allclose(make_grayscale(test_rgb_img, \"pca\"), make_grayscale(test_rgb_img, method=\"simple\"))"
   ]
  },
  {
   "cell_type": "code",
   "execution_count": 15,
   "metadata": {
    "tags": []
   },
   "outputs": [],
   "source": [
    "def plot(ims: List[np.ndarray], im_titles: List[str], cmaps: List[str], figsize: Tuple[int, int]=(5, 5)):\n",
    "    \"\"\"\n",
    "    Plot titled images in a single row.\n",
    "    Args:\n",
    "        ims: List of images to plot.\n",
    "        im_titles: List of image titles.\n",
    "        cmaps: List of color maps.\n",
    "        figsize: Height and width figure dimensions.\n",
    "    Adapted from https://matplotlib.org/stable/gallery/axes_grid1/simple_axesgrid.html.\n",
    "    \"\"\"\n",
    "    fig = plt.figure(figsize=figsize)\n",
    "    grid = ImageGrid(fig, 111,  # similar to subplot(111)\n",
    "                     nrows_ncols=(1, len(ims)),  # creates 2x2 grid of axes\n",
    "                     axes_pad=0.4,  # pad between axes in inch.\n",
    "                     )\n",
    "    for ix, (ax, im) in enumerate(zip(grid, ims)):\n",
    "        # Iterating over the grid returns the Axes.\n",
    "        ax.axis(\"off\")\n",
    "        ax.title.set_text(im_titles[ix])\n",
    "        ax.imshow(im, cmap=cmaps[ix])\n",
    "    plt.show()"
   ]
  },
  {
   "cell_type": "code",
   "execution_count": 16,
   "metadata": {
    "tags": []
   },
   "outputs": [],
   "source": [
    "\n",
    "SRC_DIR = Path(\"/workspace/rasmussen-705.603/data/Assignment2/raw\")\n",
    "DST_DIR = Path(\"/workspace/rasmussen-705.603/data/Assignment2/processed\")\n",
    "DSIZE = (300, 400)\n",
    "\n",
    "def main(root_dir: Path=SRC_DIR, dst_dir: Path=DST_DIR, dsize: Tuple[int, int]=DSIZE):\n",
    "    \"\"\"\n",
    "    Read a BGR image, convert to RGB, resize it, normalize it, convert to grayscale, then plot each image.\n",
    "    \"\"\"\n",
    "    for im_src in [x for x in root_dir.iterdir() if x.suffix in [\".jpg\", \".png\"]]:\n",
    "        print(80 * \"~\")\n",
    "        print(im_src.name)\n",
    "\n",
    "        # Load image\n",
    "        bgr_img = cv2.imread(str(im_src))\n",
    "        # Convert BGR to RGB\n",
    "        rgb_img = bgr_to_rgb(bgr_img)\n",
    "        # Resize RGB image to desired size\n",
    "        resized_img = resize(rgb_img, dsize)\n",
    "        # Normalize resized RGB image\n",
    "        normed_img = normalize(resized_img)\n",
    "        # Grayscale normalized image\n",
    "        gray_img = make_grayscale(normed_img, method='cv2')\n",
    "        # Organize results and plot them\n",
    "        plot([bgr_img, rgb_img], [\"bgr\", \"rgb\"], [None, None])\n",
    "        plot([resized_img, normed_img, gray_img], [\"resized\", \"normed\", \"gray\"], [None, None, \"gist_gray\"], figsize=(6,8))\n",
    "        ims_dict = dict(zip([\"bgr\", \"rgb\", \"resized\", \"normed\", \"gray\"], [bgr_img, rgb_img, resized_img, normed_img, gray_img]))\n",
    "        for img_name, img in ims_dict.items():\n",
    "            cv2.imwrite(str(dst_dir / f\"{im_src.stem}_{img_name}.png\"), img)"
   ]
  },
  {
   "cell_type": "markdown",
   "metadata": {},
   "source": [
    "### Run program"
   ]
  },
  {
   "cell_type": "code",
   "execution_count": 17,
   "metadata": {
    "tags": []
   },
   "outputs": [
    {
     "ename": "FileNotFoundError",
     "evalue": "[Errno 2] No such file or directory: '/workspace/rasmussen-705.603/Assignment2/raw'",
     "output_type": "error",
     "traceback": [
      "\u001b[0;31m---------------------------------------------------------------------------\u001b[0m",
      "\u001b[0;31mFileNotFoundError\u001b[0m                         Traceback (most recent call last)",
      "\u001b[0;32m/tmp/ipykernel_1755/217905245.py\u001b[0m in \u001b[0;36m<module>\u001b[0;34m\u001b[0m\n\u001b[1;32m      1\u001b[0m \u001b[0;32mif\u001b[0m \u001b[0m__name__\u001b[0m \u001b[0;34m==\u001b[0m \u001b[0;34m'__main__'\u001b[0m\u001b[0;34m:\u001b[0m\u001b[0;34m\u001b[0m\u001b[0;34m\u001b[0m\u001b[0m\n\u001b[0;32m----> 2\u001b[0;31m     \u001b[0mmain\u001b[0m\u001b[0;34m(\u001b[0m\u001b[0;34m)\u001b[0m\u001b[0;34m\u001b[0m\u001b[0;34m\u001b[0m\u001b[0m\n\u001b[0m",
      "\u001b[0;32m/tmp/ipykernel_1755/2393551254.py\u001b[0m in \u001b[0;36mmain\u001b[0;34m(root_dir, dst_dir, dsize)\u001b[0m\n\u001b[1;32m      7\u001b[0m     \u001b[0mRead\u001b[0m \u001b[0ma\u001b[0m \u001b[0mBGR\u001b[0m \u001b[0mimage\u001b[0m\u001b[0;34m,\u001b[0m \u001b[0mconvert\u001b[0m \u001b[0mto\u001b[0m \u001b[0mRGB\u001b[0m\u001b[0;34m,\u001b[0m \u001b[0mresize\u001b[0m \u001b[0mit\u001b[0m\u001b[0;34m,\u001b[0m \u001b[0mnormalize\u001b[0m \u001b[0mit\u001b[0m\u001b[0;34m,\u001b[0m \u001b[0mconvert\u001b[0m \u001b[0mto\u001b[0m \u001b[0mgrayscale\u001b[0m\u001b[0;34m,\u001b[0m \u001b[0mthen\u001b[0m \u001b[0mplot\u001b[0m \u001b[0meach\u001b[0m \u001b[0mimage\u001b[0m\u001b[0;34m.\u001b[0m\u001b[0;34m\u001b[0m\u001b[0;34m\u001b[0m\u001b[0m\n\u001b[1;32m      8\u001b[0m     \"\"\"\n\u001b[0;32m----> 9\u001b[0;31m     \u001b[0;32mfor\u001b[0m \u001b[0mim_src\u001b[0m \u001b[0;32min\u001b[0m \u001b[0;34m[\u001b[0m\u001b[0mx\u001b[0m \u001b[0;32mfor\u001b[0m \u001b[0mx\u001b[0m \u001b[0;32min\u001b[0m \u001b[0mroot_dir\u001b[0m\u001b[0;34m.\u001b[0m\u001b[0miterdir\u001b[0m\u001b[0;34m(\u001b[0m\u001b[0;34m)\u001b[0m \u001b[0;32mif\u001b[0m \u001b[0mx\u001b[0m\u001b[0;34m.\u001b[0m\u001b[0msuffix\u001b[0m \u001b[0;32min\u001b[0m \u001b[0;34m[\u001b[0m\u001b[0;34m\".jpg\"\u001b[0m\u001b[0;34m,\u001b[0m \u001b[0;34m\".png\"\u001b[0m\u001b[0;34m]\u001b[0m\u001b[0;34m]\u001b[0m\u001b[0;34m:\u001b[0m\u001b[0;34m\u001b[0m\u001b[0;34m\u001b[0m\u001b[0m\n\u001b[0m\u001b[1;32m     10\u001b[0m         \u001b[0mprint\u001b[0m\u001b[0;34m(\u001b[0m\u001b[0;36m80\u001b[0m \u001b[0;34m*\u001b[0m \u001b[0;34m\"~\"\u001b[0m\u001b[0;34m)\u001b[0m\u001b[0;34m\u001b[0m\u001b[0;34m\u001b[0m\u001b[0m\n\u001b[1;32m     11\u001b[0m         \u001b[0mprint\u001b[0m\u001b[0;34m(\u001b[0m\u001b[0mim_src\u001b[0m\u001b[0;34m.\u001b[0m\u001b[0mname\u001b[0m\u001b[0;34m)\u001b[0m\u001b[0;34m\u001b[0m\u001b[0;34m\u001b[0m\u001b[0m\n",
      "\u001b[0;32m/tmp/ipykernel_1755/2393551254.py\u001b[0m in \u001b[0;36m<listcomp>\u001b[0;34m(.0)\u001b[0m\n\u001b[1;32m      7\u001b[0m     \u001b[0mRead\u001b[0m \u001b[0ma\u001b[0m \u001b[0mBGR\u001b[0m \u001b[0mimage\u001b[0m\u001b[0;34m,\u001b[0m \u001b[0mconvert\u001b[0m \u001b[0mto\u001b[0m \u001b[0mRGB\u001b[0m\u001b[0;34m,\u001b[0m \u001b[0mresize\u001b[0m \u001b[0mit\u001b[0m\u001b[0;34m,\u001b[0m \u001b[0mnormalize\u001b[0m \u001b[0mit\u001b[0m\u001b[0;34m,\u001b[0m \u001b[0mconvert\u001b[0m \u001b[0mto\u001b[0m \u001b[0mgrayscale\u001b[0m\u001b[0;34m,\u001b[0m \u001b[0mthen\u001b[0m \u001b[0mplot\u001b[0m \u001b[0meach\u001b[0m \u001b[0mimage\u001b[0m\u001b[0;34m.\u001b[0m\u001b[0;34m\u001b[0m\u001b[0;34m\u001b[0m\u001b[0m\n\u001b[1;32m      8\u001b[0m     \"\"\"\n\u001b[0;32m----> 9\u001b[0;31m     \u001b[0;32mfor\u001b[0m \u001b[0mim_src\u001b[0m \u001b[0;32min\u001b[0m \u001b[0;34m[\u001b[0m\u001b[0mx\u001b[0m \u001b[0;32mfor\u001b[0m \u001b[0mx\u001b[0m \u001b[0;32min\u001b[0m \u001b[0mroot_dir\u001b[0m\u001b[0;34m.\u001b[0m\u001b[0miterdir\u001b[0m\u001b[0;34m(\u001b[0m\u001b[0;34m)\u001b[0m \u001b[0;32mif\u001b[0m \u001b[0mx\u001b[0m\u001b[0;34m.\u001b[0m\u001b[0msuffix\u001b[0m \u001b[0;32min\u001b[0m \u001b[0;34m[\u001b[0m\u001b[0;34m\".jpg\"\u001b[0m\u001b[0;34m,\u001b[0m \u001b[0;34m\".png\"\u001b[0m\u001b[0;34m]\u001b[0m\u001b[0;34m]\u001b[0m\u001b[0;34m:\u001b[0m\u001b[0;34m\u001b[0m\u001b[0;34m\u001b[0m\u001b[0m\n\u001b[0m\u001b[1;32m     10\u001b[0m         \u001b[0mprint\u001b[0m\u001b[0;34m(\u001b[0m\u001b[0;36m80\u001b[0m \u001b[0;34m*\u001b[0m \u001b[0;34m\"~\"\u001b[0m\u001b[0;34m)\u001b[0m\u001b[0;34m\u001b[0m\u001b[0;34m\u001b[0m\u001b[0m\n\u001b[1;32m     11\u001b[0m         \u001b[0mprint\u001b[0m\u001b[0;34m(\u001b[0m\u001b[0mim_src\u001b[0m\u001b[0;34m.\u001b[0m\u001b[0mname\u001b[0m\u001b[0;34m)\u001b[0m\u001b[0;34m\u001b[0m\u001b[0;34m\u001b[0m\u001b[0m\n",
      "\u001b[0;32m/usr/lib/python3.8/pathlib.py\u001b[0m in \u001b[0;36miterdir\u001b[0;34m(self)\u001b[0m\n\u001b[1;32m   1120\u001b[0m         \u001b[0;32mif\u001b[0m \u001b[0mself\u001b[0m\u001b[0;34m.\u001b[0m\u001b[0m_closed\u001b[0m\u001b[0;34m:\u001b[0m\u001b[0;34m\u001b[0m\u001b[0;34m\u001b[0m\u001b[0m\n\u001b[1;32m   1121\u001b[0m             \u001b[0mself\u001b[0m\u001b[0;34m.\u001b[0m\u001b[0m_raise_closed\u001b[0m\u001b[0;34m(\u001b[0m\u001b[0;34m)\u001b[0m\u001b[0;34m\u001b[0m\u001b[0;34m\u001b[0m\u001b[0m\n\u001b[0;32m-> 1122\u001b[0;31m         \u001b[0;32mfor\u001b[0m \u001b[0mname\u001b[0m \u001b[0;32min\u001b[0m \u001b[0mself\u001b[0m\u001b[0;34m.\u001b[0m\u001b[0m_accessor\u001b[0m\u001b[0;34m.\u001b[0m\u001b[0mlistdir\u001b[0m\u001b[0;34m(\u001b[0m\u001b[0mself\u001b[0m\u001b[0;34m)\u001b[0m\u001b[0;34m:\u001b[0m\u001b[0;34m\u001b[0m\u001b[0;34m\u001b[0m\u001b[0m\n\u001b[0m\u001b[1;32m   1123\u001b[0m             \u001b[0;32mif\u001b[0m \u001b[0mname\u001b[0m \u001b[0;32min\u001b[0m \u001b[0;34m{\u001b[0m\u001b[0;34m'.'\u001b[0m\u001b[0;34m,\u001b[0m \u001b[0;34m'..'\u001b[0m\u001b[0;34m}\u001b[0m\u001b[0;34m:\u001b[0m\u001b[0;34m\u001b[0m\u001b[0;34m\u001b[0m\u001b[0m\n\u001b[1;32m   1124\u001b[0m                 \u001b[0;31m# Yielding a path object for these makes little sense\u001b[0m\u001b[0;34m\u001b[0m\u001b[0;34m\u001b[0m\u001b[0;34m\u001b[0m\u001b[0m\n",
      "\u001b[0;31mFileNotFoundError\u001b[0m: [Errno 2] No such file or directory: '/workspace/rasmussen-705.603/Assignment2/raw'"
     ]
    }
   ],
   "source": [
    "if __name__ == '__main__':\n",
    "    main()"
   ]
  }
 ],
 "metadata": {
  "anaconda-cloud": {},
  "kernelspec": {
   "display_name": "Python 3 (ipykernel)",
   "language": "python",
   "name": "python3"
  },
  "language_info": {
   "codemirror_mode": {
    "name": "ipython",
    "version": 3
   },
   "file_extension": ".py",
   "mimetype": "text/x-python",
   "name": "python",
   "nbconvert_exporter": "python",
   "pygments_lexer": "ipython3",
   "version": "3.8.10"
  }
 },
 "nbformat": 4,
 "nbformat_minor": 4
}
